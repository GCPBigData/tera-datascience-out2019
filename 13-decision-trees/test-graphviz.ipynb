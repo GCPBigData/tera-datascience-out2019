{
 "cells": [
  {
   "cell_type": "code",
   "execution_count": 2,
   "metadata": {},
   "outputs": [
    {
     "data": {
      "text/plain": [
       "'Digraph.gv.pdf'"
      ]
     },
     "execution_count": 2,
     "metadata": {},
     "output_type": "execute_result"
    }
   ],
   "source": [
    "import graphviz\n",
    "\n",
    "d = graphviz.Digraph()\n",
    "\n",
    "with d.subgraph() as s:\n",
    "    s.attr(rank='same')\n",
    "    s.node('A')\n",
    "    s.node('X')\n",
    "\n",
    "d.node('C')\n",
    "\n",
    "with d.subgraph() as s:\n",
    "    s.attr(rank='same')\n",
    "    s.node('B')\n",
    "    s.node('D')\n",
    "    s.node('Y')\n",
    "\n",
    "d.edges(['AB', 'AC', 'CD', 'XY'])\n",
    "\n",
    "d.view()"
   ]
  },
  {
   "cell_type": "code",
   "execution_count": null,
   "metadata": {},
   "outputs": [],
   "source": []
  }
 ],
 "metadata": {
  "kernelspec": {
   "display_name": "Python 3",
   "language": "python",
   "name": "python3"
  },
  "language_info": {
   "codemirror_mode": {
    "name": "ipython",
    "version": 3
   },
   "file_extension": ".py",
   "mimetype": "text/x-python",
   "name": "python",
   "nbconvert_exporter": "python",
   "pygments_lexer": "ipython3",
   "version": "3.6.9"
  }
 },
 "nbformat": 4,
 "nbformat_minor": 2
}
