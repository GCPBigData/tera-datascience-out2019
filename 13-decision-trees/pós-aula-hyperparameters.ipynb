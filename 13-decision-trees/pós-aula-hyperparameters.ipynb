{
 "cells": [
  {
   "cell_type": "markdown",
   "metadata": {},
   "source": [
    "# Hiper-parâmetros\n",
    "\n",
    "<img src=\"./images/hyperparameters.png\" alt=\"dieta\" width=\"600px\">\n",
    "\n",
    "Doc:\n",
    "https://scikit-learn.org/stable/modules/generated/sklearn.tree.DecisionTreeClassifier.html"
   ]
  },
  {
   "cell_type": "markdown",
   "metadata": {},
   "source": [
    "# GridSearchCV\n",
    "\n",
    "<img src=\"./images/lupa.png\" alt=\"dieta\" width=\"200px\">\n",
    "\n",
    "Doc: https://scikit-learn.org/0.16/modules/generated/sklearn.grid_search.GridSearchCV.html"
   ]
  },
  {
   "cell_type": "markdown",
   "metadata": {},
   "source": [
    "# Exercício 4 - Hyperparameter tuning\n",
    "\n",
    "Neste exercício nós vamos treinar o uso do GridSearchCV para encontrar os melhores parâmetros para construção do modelo de classificação de animais.\n",
    "\n",
    "*Objetivos:*\n",
    "- Utilizar o GridSearchCV para encontrar os melhores parâmetros para o modelo de árvore de decisão para classificação dos animais\n",
    "- Quais os modelhores resultados?\n",
    "- Plote a árvore com os melhores resultados\n",
    "- Compare este resultado com os do exercício anterior\n",
    "\n",
    "<img src=\"./images/lion_king_2.jpg\" alt=\"dieta\" width=\"200px\">"
   ]
  },
  {
   "cell_type": "code",
   "execution_count": null,
   "metadata": {},
   "outputs": [],
   "source": [
    "from sklearn.model_selection import GridSearchCV\n",
    "from sklearn.tree import DecisionTreeClassifier\n",
    "from sklearn.model_selection import train_test_split\n",
    "\n",
    "# Inputs\n",
    "feature_names = ['hair','feathers','eggs','milk','airborne','aquatic','predator','toothed',\n",
    "                 'backbone','breathes','venomous','fins','legs','tail','domestic']\n",
    "X = df[feature_names]\n",
    "# Class\n",
    "y = df['class_type']\n",
    "\n",
    "# Divide os dados em treino e teste\n",
    "X_train, X_test, y_train, y_test = train_test_split(X, y, train_size=.8, test_size=.2, random_state=42)\n",
    "\n",
    "# Treina o modelo\n",
    "clf = DecisionTreeClassifier(criterion='entropy', random_state=42)\n",
    "\n",
    "# Cria o GridSearchCV\n",
    "parameters = {'max_depth':[2, 3, 4, 5, 6], 'min_samples_leaf':[2, 3, 4]}\n",
    "clfGS = GridSearchCV(clf, parameters)\n",
    "\n",
    "clfGS.fit(X_train, y_train)\n",
    "\n",
    "print('Accuracy of classifier on test set: {:.2f}'.format(clfGS.score(X_test, y_test)))\n",
    "clfGS.best_params_"
   ]
  },
  {
   "cell_type": "markdown",
   "metadata": {},
   "source": [
    "# How to visualize decision trees\n",
    "\n",
    "https://explained.ai/decision-tree-viz/"
   ]
  },
  {
   "cell_type": "markdown",
   "metadata": {},
   "source": [
    "# What is Entropy and why Information gain matter in Decision Trees?\n",
    "\n",
    "https://medium.com/coinmonks/what-is-entropy-and-why-information-gain-is-matter-4e85d46d2f01"
   ]
  },
  {
   "cell_type": "markdown",
   "metadata": {},
   "source": [
    "# Presenting Code Using Jupyter Notebook Slides\n",
    "\n",
    "https://medium.com/@mjspeck/presenting-code-using-jupyter-notebook-slides-a8a3c3b59d67"
   ]
  },
  {
   "cell_type": "code",
   "execution_count": null,
   "metadata": {},
   "outputs": [],
   "source": []
  }
 ],
 "metadata": {
  "kernelspec": {
   "display_name": "Python 3",
   "language": "python",
   "name": "python3"
  },
  "language_info": {
   "codemirror_mode": {
    "name": "ipython",
    "version": 3
   },
   "file_extension": ".py",
   "mimetype": "text/x-python",
   "name": "python",
   "nbconvert_exporter": "python",
   "pygments_lexer": "ipython3",
   "version": "3.6.9"
  }
 },
 "nbformat": 4,
 "nbformat_minor": 2
}
