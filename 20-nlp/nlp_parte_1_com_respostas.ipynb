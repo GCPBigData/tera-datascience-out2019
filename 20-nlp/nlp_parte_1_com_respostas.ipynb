{
 "cells": [
  {
   "cell_type": "markdown",
   "metadata": {},
   "source": [
    "# Aula #26 – Processamento de Linguagem Natural & Análise de Sentimento"
   ]
  },
  {
   "cell_type": "markdown",
   "metadata": {},
   "source": [
    "# NLP\n",
    "\n",
    "NLP (ou _Natural Language Processing_ - a sigla em português é PLN, _Processamento de Linguagem Natural_, mas essa sigla também é usada para falar de _Programação Neurolinguística_, então, vamos continuar usando NLP, ok?) é a área relacionada a técnicas para o entendimento de linguagem humana (a linguagem natural). A aplicação de técnicas de NLP tem sido vista em muitos domínios, desde a correção de palavras e sugestão de palavras na barra de busca de sites como o _Google_, até em sistemas mais \"sofisticados\" como os tradutores automáticos e os _home assistant_ e _smart assistants_, como Siri, Alexa ou Google Home, que podem auxiliar na execução de certas tarefas, como agendar compromissos, embora eles ainda [estejam longe de ser à prova de erros](https://www.nytimes.com/2018/05/25/business/amazon-alexa-conversation-shared-echo.html). Com o crescimento de conteúdo (mais artigos e mais fontes espalhadas), a importância do NLP também tem crescido, pois tarefas como sumarização automática e classificação automática de conteúdo (por ex., para checagem contra _fake news_) são cada vez mais necessárias em nossas vidas.\n",
    "\n",
    "Nesta aula, vamos focar no uso de algumas técnicas de NLP para processamento de texto. Entretanto, é importante lembrar que NLP não se restringe a textos escritos, podendo ser aplicado também para processamento de fala, como é o caso dos _smart assistants_.\n",
    "\n",
    "Diferentes tarefas de NLP, em geral, têm como passos iniciais as seguintes etapas:\n",
    "\n",
    "* pré-processamento do texto (que pode ser uma combinação de diferentes processamentos, envolvendo modificações a nível de palavra e identificação de entidades/funções sintáticas/etc.)\n",
    "\n",
    "* transformação do texto em quantidades numéricas (tipicamente vetores de números inteiros ou reais)"
   ]
  },
  {
   "cell_type": "markdown",
   "metadata": {},
   "source": [
    "## Agenda de hoje\n",
    "\n",
    "* análise de sentimento (detecção de polaridade)\n",
    "\n",
    "* ferramenta para encontrar ingredientes que combinam (usando _embeddings_ criados por _word2vec_)"
   ]
  },
  {
   "cell_type": "markdown",
   "metadata": {},
   "source": [
    "## Análise de sentimento\n",
    "\n",
    "Esse conjunto de dados é composto de reviews de produtos coletados do site `Americanas.com` entre janeiro e maio de 2018.\n",
    "\n",
    "Mais informações podem ser encontradas no [repositório b2w-reviews01](https://github.com/b2wdigital/b2w-reviews01)."
   ]
  },
  {
   "cell_type": "code",
   "execution_count": 55,
   "metadata": {},
   "outputs": [],
   "source": [
    "import pandas as pd"
   ]
  },
  {
   "cell_type": "code",
   "execution_count": 56,
   "metadata": {},
   "outputs": [],
   "source": [
    "import warnings\n",
    "warnings.filterwarnings('ignore')"
   ]
  },
  {
   "cell_type": "code",
   "execution_count": 57,
   "metadata": {},
   "outputs": [
    {
     "name": "stdout",
     "output_type": "stream",
     "text": [
      "--2019-11-30 13:11:44--  https://github.com/b2wdigital/b2w-reviews01/raw/master/B2W-Reviews01.csv\n",
      "Resolving github.com (github.com)... 192.30.253.113\n",
      "Connecting to github.com (github.com)|192.30.253.113|:443... connected.\n",
      "HTTP request sent, awaiting response... 302 Found\n",
      "Location: https://raw.githubusercontent.com/b2wdigital/b2w-reviews01/master/B2W-Reviews01.csv [following]\n",
      "--2019-11-30 13:11:45--  https://raw.githubusercontent.com/b2wdigital/b2w-reviews01/master/B2W-Reviews01.csv\n",
      "Resolving raw.githubusercontent.com (raw.githubusercontent.com)... 151.101.92.133\n",
      "Connecting to raw.githubusercontent.com (raw.githubusercontent.com)|151.101.92.133|:443... connected.\n",
      "HTTP request sent, awaiting response... 200 OK\n",
      "Length: 50591578 (48M) [text/plain]\n",
      "Saving to: ‘data/datasets/b2w_reviews/B2W-Reviews01.csv.7’\n",
      "\n",
      "B2W-Reviews01.csv.7 100%[===================>]  48,25M  1,59MB/s    in 28s     \n",
      "\n",
      "2019-11-30 13:12:14 (1,70 MB/s) - ‘data/datasets/b2w_reviews/B2W-Reviews01.csv.7’ saved [50591578/50591578]\n",
      "\n"
     ]
    }
   ],
   "source": [
    "!wget -P data/datasets/b2w_reviews https://github.com/b2wdigital/b2w-reviews01/raw/master/B2W-Reviews01.csv"
   ]
  },
  {
   "cell_type": "code",
   "execution_count": 58,
   "metadata": {},
   "outputs": [],
   "source": [
    "selected_cols = ['product_name', 'product_brand', 'site_category_lv1', 'site_category_lv2',\n",
    "                 'review_title', 'review_text', 'recommend_to_a_friend']\n",
    "\n",
    "path = 'data/datasets'\n",
    "reviews_df = pd.read_csv(f'{path}/b2w_reviews/B2W-Reviews01.csv', sep=';', low_memory=False)[selected_cols].fillna('')"
   ]
  },
  {
   "cell_type": "code",
   "execution_count": 59,
   "metadata": {},
   "outputs": [
    {
     "data": {
      "text/html": [
       "<div>\n",
       "<style scoped>\n",
       "    .dataframe tbody tr th:only-of-type {\n",
       "        vertical-align: middle;\n",
       "    }\n",
       "\n",
       "    .dataframe tbody tr th {\n",
       "        vertical-align: top;\n",
       "    }\n",
       "\n",
       "    .dataframe thead th {\n",
       "        text-align: right;\n",
       "    }\n",
       "</style>\n",
       "<table border=\"1\" class=\"dataframe\">\n",
       "  <thead>\n",
       "    <tr style=\"text-align: right;\">\n",
       "      <th></th>\n",
       "      <th>product_name</th>\n",
       "      <th>product_brand</th>\n",
       "      <th>site_category_lv1</th>\n",
       "      <th>site_category_lv2</th>\n",
       "      <th>review_title</th>\n",
       "      <th>review_text</th>\n",
       "      <th>recommend_to_a_friend</th>\n",
       "    </tr>\n",
       "  </thead>\n",
       "  <tbody>\n",
       "    <tr>\n",
       "      <th>0</th>\n",
       "      <td>Notebook Asus Vivobook Max X541NA-GO472T Intel...</td>\n",
       "      <td></td>\n",
       "      <td>Informática</td>\n",
       "      <td>Notebook</td>\n",
       "      <td>Bom</td>\n",
       "      <td>Estou contente com a compra entrega rápida o ú...</td>\n",
       "      <td>Yes</td>\n",
       "    </tr>\n",
       "    <tr>\n",
       "      <th>1</th>\n",
       "      <td>Copo Acrílico Com Canudo 500ml Rocie</td>\n",
       "      <td></td>\n",
       "      <td>Utilidades Domésticas</td>\n",
       "      <td>Copos, Taças e Canecas</td>\n",
       "      <td>Preço imbatível, ótima qualidade</td>\n",
       "      <td>Por apenas R$1994.20,eu consegui comprar esse ...</td>\n",
       "      <td>Yes</td>\n",
       "    </tr>\n",
       "    <tr>\n",
       "      <th>2</th>\n",
       "      <td>Panela de Pressão Elétrica Philips Walita Dail...</td>\n",
       "      <td>philips walita</td>\n",
       "      <td>Eletroportáteis</td>\n",
       "      <td>Panela Elétrica</td>\n",
       "      <td>ATENDE TODAS AS EXPECTATIVA.</td>\n",
       "      <td>SUPERA EM AGILIDADE E PRATICIDADE OUTRAS PANEL...</td>\n",
       "      <td>Yes</td>\n",
       "    </tr>\n",
       "    <tr>\n",
       "      <th>3</th>\n",
       "      <td>Betoneira Columbus - Roma Brinquedos</td>\n",
       "      <td>roma jensen</td>\n",
       "      <td>Brinquedos</td>\n",
       "      <td>Veículos de Brinquedo</td>\n",
       "      <td>presente mais que desejado</td>\n",
       "      <td>MEU FILHO AMOU! PARECE DE VERDADE COM TANTOS D...</td>\n",
       "      <td>Yes</td>\n",
       "    </tr>\n",
       "    <tr>\n",
       "      <th>4</th>\n",
       "      <td>Smart TV LED 43\" LG 43UJ6525 Ultra HD 4K com C...</td>\n",
       "      <td>lg</td>\n",
       "      <td>TV e Home Theater</td>\n",
       "      <td>TV</td>\n",
       "      <td>Sem duvidas, excelente</td>\n",
       "      <td>A entrega foi no prazo, as americanas estão de...</td>\n",
       "      <td>Yes</td>\n",
       "    </tr>\n",
       "  </tbody>\n",
       "</table>\n",
       "</div>"
      ],
      "text/plain": [
       "                                        product_name   product_brand  \\\n",
       "0  Notebook Asus Vivobook Max X541NA-GO472T Intel...                   \n",
       "1               Copo Acrílico Com Canudo 500ml Rocie                   \n",
       "2  Panela de Pressão Elétrica Philips Walita Dail...  philips walita   \n",
       "3               Betoneira Columbus - Roma Brinquedos     roma jensen   \n",
       "4  Smart TV LED 43\" LG 43UJ6525 Ultra HD 4K com C...              lg   \n",
       "\n",
       "       site_category_lv1       site_category_lv2  \\\n",
       "0            Informática                Notebook   \n",
       "1  Utilidades Domésticas  Copos, Taças e Canecas   \n",
       "2        Eletroportáteis         Panela Elétrica   \n",
       "3             Brinquedos   Veículos de Brinquedo   \n",
       "4      TV e Home Theater                      TV   \n",
       "\n",
       "                       review_title  \\\n",
       "0                               Bom   \n",
       "1  Preço imbatível, ótima qualidade   \n",
       "2      ATENDE TODAS AS EXPECTATIVA.   \n",
       "3        presente mais que desejado   \n",
       "4            Sem duvidas, excelente   \n",
       "\n",
       "                                         review_text recommend_to_a_friend  \n",
       "0  Estou contente com a compra entrega rápida o ú...                   Yes  \n",
       "1  Por apenas R$1994.20,eu consegui comprar esse ...                   Yes  \n",
       "2  SUPERA EM AGILIDADE E PRATICIDADE OUTRAS PANEL...                   Yes  \n",
       "3  MEU FILHO AMOU! PARECE DE VERDADE COM TANTOS D...                   Yes  \n",
       "4  A entrega foi no prazo, as americanas estão de...                   Yes  "
      ]
     },
     "execution_count": 59,
     "metadata": {},
     "output_type": "execute_result"
    }
   ],
   "source": [
    "reviews_df.head()"
   ]
  },
  {
   "cell_type": "code",
   "execution_count": 60,
   "metadata": {},
   "outputs": [],
   "source": [
    "reviews_df['text'] = reviews_df['review_title'] + ' ' + reviews_df['review_text']"
   ]
  },
  {
   "cell_type": "code",
   "execution_count": 61,
   "metadata": {},
   "outputs": [
    {
     "data": {
      "text/plain": [
       "'Bom Estou contente com a compra entrega rápida o único problema com as Americanas é se houver troca ou devolução do produto o consumidor tem problemas com espera.'"
      ]
     },
     "execution_count": 61,
     "metadata": {},
     "output_type": "execute_result"
    }
   ],
   "source": [
    "reviews_df.iloc[0]['text']"
   ]
  },
  {
   "cell_type": "code",
   "execution_count": 62,
   "metadata": {},
   "outputs": [
    {
     "data": {
      "text/html": [
       "<div>\n",
       "<style scoped>\n",
       "    .dataframe tbody tr th:only-of-type {\n",
       "        vertical-align: middle;\n",
       "    }\n",
       "\n",
       "    .dataframe tbody tr th {\n",
       "        vertical-align: top;\n",
       "    }\n",
       "\n",
       "    .dataframe thead th {\n",
       "        text-align: right;\n",
       "    }\n",
       "</style>\n",
       "<table border=\"1\" class=\"dataframe\">\n",
       "  <thead>\n",
       "    <tr style=\"text-align: right;\">\n",
       "      <th></th>\n",
       "      <th>product_name</th>\n",
       "      <th>product_brand</th>\n",
       "      <th>site_category_lv1</th>\n",
       "      <th>site_category_lv2</th>\n",
       "      <th>review_title</th>\n",
       "      <th>review_text</th>\n",
       "      <th>recommend_to_a_friend</th>\n",
       "      <th>text</th>\n",
       "    </tr>\n",
       "  </thead>\n",
       "  <tbody>\n",
       "  </tbody>\n",
       "</table>\n",
       "</div>"
      ],
      "text/plain": [
       "Empty DataFrame\n",
       "Columns: [product_name, product_brand, site_category_lv1, site_category_lv2, review_title, review_text, recommend_to_a_friend, text]\n",
       "Index: []"
      ]
     },
     "execution_count": 62,
     "metadata": {},
     "output_type": "execute_result"
    }
   ],
   "source": [
    "reviews_df[reviews_df['text'].str.len() == 0]"
   ]
  },
  {
   "cell_type": "code",
   "execution_count": 63,
   "metadata": {},
   "outputs": [
    {
     "data": {
      "text/plain": [
       "Yes    96368\n",
       "No     35987\n",
       "          18\n",
       "Name: recommend_to_a_friend, dtype: int64"
      ]
     },
     "execution_count": 63,
     "metadata": {},
     "output_type": "execute_result"
    }
   ],
   "source": [
    "reviews_df['recommend_to_a_friend'].value_counts()"
   ]
  },
  {
   "cell_type": "code",
   "execution_count": 64,
   "metadata": {},
   "outputs": [
    {
     "data": {
      "text/html": [
       "<div>\n",
       "<style scoped>\n",
       "    .dataframe tbody tr th:only-of-type {\n",
       "        vertical-align: middle;\n",
       "    }\n",
       "\n",
       "    .dataframe tbody tr th {\n",
       "        vertical-align: top;\n",
       "    }\n",
       "\n",
       "    .dataframe thead th {\n",
       "        text-align: right;\n",
       "    }\n",
       "</style>\n",
       "<table border=\"1\" class=\"dataframe\">\n",
       "  <thead>\n",
       "    <tr style=\"text-align: right;\">\n",
       "      <th></th>\n",
       "      <th>text</th>\n",
       "      <th>recommend_to_a_friend</th>\n",
       "    </tr>\n",
       "  </thead>\n",
       "  <tbody>\n",
       "    <tr>\n",
       "      <th>0</th>\n",
       "      <td>Bom Estou contente com a compra entrega rápida...</td>\n",
       "      <td>Yes</td>\n",
       "    </tr>\n",
       "    <tr>\n",
       "      <th>1</th>\n",
       "      <td>Preço imbatível, ótima qualidade Por apenas R$...</td>\n",
       "      <td>Yes</td>\n",
       "    </tr>\n",
       "    <tr>\n",
       "      <th>2</th>\n",
       "      <td>ATENDE TODAS AS EXPECTATIVA. SUPERA EM AGILIDA...</td>\n",
       "      <td>Yes</td>\n",
       "    </tr>\n",
       "    <tr>\n",
       "      <th>3</th>\n",
       "      <td>presente mais que desejado MEU FILHO AMOU! PAR...</td>\n",
       "      <td>Yes</td>\n",
       "    </tr>\n",
       "    <tr>\n",
       "      <th>4</th>\n",
       "      <td>Sem duvidas, excelente A entrega foi no prazo,...</td>\n",
       "      <td>Yes</td>\n",
       "    </tr>\n",
       "  </tbody>\n",
       "</table>\n",
       "</div>"
      ],
      "text/plain": [
       "                                                text recommend_to_a_friend\n",
       "0  Bom Estou contente com a compra entrega rápida...                   Yes\n",
       "1  Preço imbatível, ótima qualidade Por apenas R$...                   Yes\n",
       "2  ATENDE TODAS AS EXPECTATIVA. SUPERA EM AGILIDA...                   Yes\n",
       "3  presente mais que desejado MEU FILHO AMOU! PAR...                   Yes\n",
       "4  Sem duvidas, excelente A entrega foi no prazo,...                   Yes"
      ]
     },
     "execution_count": 64,
     "metadata": {},
     "output_type": "execute_result"
    }
   ],
   "source": [
    "reviews_df[['text', 'recommend_to_a_friend']].head()"
   ]
  },
  {
   "cell_type": "markdown",
   "metadata": {},
   "source": [
    "Como podemos ver, tanto no dataset de treino, como no de teste, temos o texto e polaridade da sentença. Nosso objetivo é construir um **classificador de sentimentos**, que recebe uma sentença (referente a um review de produto) e é capaz de predizer se o review é positivo (o usuário recomendaria a um amigo) ou negativo (o usuário **não** recomendaria a um amigo)."
   ]
  },
  {
   "cell_type": "code",
   "execution_count": 65,
   "metadata": {},
   "outputs": [
    {
     "data": {
      "text/plain": [
       "['Produto de baixíssima qualidade. Quebrou na montagem Produto extremamente frágil, quebrou na montagem. Produto chegou rápido, já com frisos. Ao desembalar partiu no meio. Nao recomendo tal produto, material parece frágil como papelão',\n",
       " 'Não recebi o produto Produto não entregue. Estou me sentido engando e roubado, pois paguei e não recebi. Uma droga de serviço. Não recomendo!',\n",
       " 'produto falso Produto não condiz com o vendido no site,estou tentando efetuar a troca a vários dias e até o momento não me deram retorno.Decepcionada com a Americanas.',\n",
       " 'Recomendo!!!!! Produto entregue em tempo hábil e exatamente conforme descrição disposta no site!!!!  Recomendo a todos!!!!!!!',\n",
       " 'Gostei! Muito prático e eficiente. Recomendo a compra do produto prático e eficiente.',\n",
       " 'Produto exelente Estou gostando muito,  a entrega foi bem rápida recomendo a todos!!',\n",
       " 'Não recebi Até agora não recebi o produto . E não obtive nenhuma resposta.',\n",
       " 'Bom produto. O produto é bom, embora eu não o tenha usado em situações extremas, atende às minhas  necessidades.',\n",
       " 'Vou comprar talvez se for bom eu dou 5 estrelas Não sei vou comprar se for bom eu dou 5 estrelas no momento e só 2 :)',\n",
       " 'Gostei É ótimo para apartamento ou ambientes pequenos, porem esse modelo FIT não possui os acessórios para limpeza a seco e limpeza pesada, nem a opção de compra pois o diâmetro é menor, apenas o tamanho normal que possui os outros acessórios. Achei estranho vir numa caixa de papelão com a escrita AT HOME, achei até que poderia ser falso. No Geral o produto é bom e facilita muito a limpeza. Recomendo.']"
      ]
     },
     "execution_count": 65,
     "metadata": {},
     "output_type": "execute_result"
    }
   ],
   "source": [
    "reviews_df.sample(n=10)['text'].tolist()"
   ]
  },
  {
   "cell_type": "markdown",
   "metadata": {},
   "source": [
    "**Nos exemplos de frases acima, podemos ver que as sentenças incluem pontuações, acentos, letras maiúsculas e minúsculas... Seria ideal que conseguíssemos _normalizar_ o texto, de forma a diminuir a quantidade de palavras diferentes.**"
   ]
  },
  {
   "cell_type": "markdown",
   "metadata": {},
   "source": [
    "### Normalização do texto\n",
    "\n",
    "Técnicas comuns:\n",
    "\n",
    "* remoção de acentos\n",
    "\n",
    "* remoção de palavras muito comuns (_stopwords_)\n",
    "\n",
    "* remoção de pontuação\n",
    "\n",
    "* remoção de dígitos\n",
    "\n",
    "* padronização para letras minúsculas (ou maiúsculas)\n",
    "\n",
    "* _stemming_ / _lematização_ - redução de palavras relacionadas a uma forma mínima comum (ex. `construirá -> construir`, `construção -> construir`)\n",
    "\n",
    "* correção de palavras escritas incorretamente (uso de spellchecker)\n",
    "\n",
    "**Leia mais:**\n",
    "\n",
    "* sobre a diferença entre stemming e lematização em [uma discussão no StackOverflow](https://stackoverflow.com/questions/1787110/what-is-the-true-difference-between-lemmatization-vs-stemming);\n",
    "\n",
    "* sobre a situação atual em relação à lematização para a língua portuguesa nesse [blog post](https://lars76.github.io/nlp/lemmatize-portuguese/).\n",
    "\n",
    "**Atenção:** todas essas técnicas envolvem operações com `strings`. Como estamos trabalhando com um dataframe Pandas, quando possível, vamos usar os métodos descritos [na documentação do Pandas](https://pandas.pydata.org/pandas-docs/stable/user_guide/text.html)."
   ]
  },
  {
   "cell_type": "markdown",
   "metadata": {},
   "source": [
    "#### Remoção de acentos"
   ]
  },
  {
   "cell_type": "code",
   "execution_count": 66,
   "metadata": {},
   "outputs": [],
   "source": [
    "reviews_df['norm_text'] = reviews_df['text'].str.normalize('NFKD').str.encode('ascii', 'ignore').str.decode('utf-8')"
   ]
  },
  {
   "cell_type": "markdown",
   "metadata": {},
   "source": [
    "Forma alternativa:\n",
    "\n",
    ">```python\n",
    "> from unicodedata import normalize\n",
    ">\n",
    "> def remove_accents(text):\n",
    "    return normalize('NFKD', text).encode('ascii', 'ignore').decode('utf-8')\n",
    ">\n",
    "> reviews_df['norm_text'] = reviews_df['text'].apply(normalize_text)\n",
    ">```"
   ]
  },
  {
   "cell_type": "code",
   "execution_count": 67,
   "metadata": {},
   "outputs": [
    {
     "data": {
      "text/html": [
       "<div>\n",
       "<style scoped>\n",
       "    .dataframe tbody tr th:only-of-type {\n",
       "        vertical-align: middle;\n",
       "    }\n",
       "\n",
       "    .dataframe tbody tr th {\n",
       "        vertical-align: top;\n",
       "    }\n",
       "\n",
       "    .dataframe thead th {\n",
       "        text-align: right;\n",
       "    }\n",
       "</style>\n",
       "<table border=\"1\" class=\"dataframe\">\n",
       "  <thead>\n",
       "    <tr style=\"text-align: right;\">\n",
       "      <th></th>\n",
       "      <th>text</th>\n",
       "      <th>norm_text</th>\n",
       "    </tr>\n",
       "  </thead>\n",
       "  <tbody>\n",
       "    <tr>\n",
       "      <th>0</th>\n",
       "      <td>Bom Estou contente com a compra entrega rápida...</td>\n",
       "      <td>Bom Estou contente com a compra entrega rapida...</td>\n",
       "    </tr>\n",
       "    <tr>\n",
       "      <th>1</th>\n",
       "      <td>Preço imbatível, ótima qualidade Por apenas R$...</td>\n",
       "      <td>Preco imbativel, otima qualidade Por apenas R$...</td>\n",
       "    </tr>\n",
       "    <tr>\n",
       "      <th>2</th>\n",
       "      <td>ATENDE TODAS AS EXPECTATIVA. SUPERA EM AGILIDA...</td>\n",
       "      <td>ATENDE TODAS AS EXPECTATIVA. SUPERA EM AGILIDA...</td>\n",
       "    </tr>\n",
       "    <tr>\n",
       "      <th>3</th>\n",
       "      <td>presente mais que desejado MEU FILHO AMOU! PAR...</td>\n",
       "      <td>presente mais que desejado MEU FILHO AMOU! PAR...</td>\n",
       "    </tr>\n",
       "    <tr>\n",
       "      <th>4</th>\n",
       "      <td>Sem duvidas, excelente A entrega foi no prazo,...</td>\n",
       "      <td>Sem duvidas, excelente A entrega foi no prazo,...</td>\n",
       "    </tr>\n",
       "  </tbody>\n",
       "</table>\n",
       "</div>"
      ],
      "text/plain": [
       "                                                text  \\\n",
       "0  Bom Estou contente com a compra entrega rápida...   \n",
       "1  Preço imbatível, ótima qualidade Por apenas R$...   \n",
       "2  ATENDE TODAS AS EXPECTATIVA. SUPERA EM AGILIDA...   \n",
       "3  presente mais que desejado MEU FILHO AMOU! PAR...   \n",
       "4  Sem duvidas, excelente A entrega foi no prazo,...   \n",
       "\n",
       "                                           norm_text  \n",
       "0  Bom Estou contente com a compra entrega rapida...  \n",
       "1  Preco imbativel, otima qualidade Por apenas R$...  \n",
       "2  ATENDE TODAS AS EXPECTATIVA. SUPERA EM AGILIDA...  \n",
       "3  presente mais que desejado MEU FILHO AMOU! PAR...  \n",
       "4  Sem duvidas, excelente A entrega foi no prazo,...  "
      ]
     },
     "execution_count": 67,
     "metadata": {},
     "output_type": "execute_result"
    }
   ],
   "source": [
    "reviews_df[['text', 'norm_text']].head()"
   ]
  },
  {
   "cell_type": "markdown",
   "metadata": {},
   "source": [
    "#### Padronização para letras minúsculas"
   ]
  },
  {
   "cell_type": "code",
   "execution_count": 68,
   "metadata": {},
   "outputs": [],
   "source": [
    "reviews_df['norm_text'] = reviews_df['norm_text'].str.lower()"
   ]
  },
  {
   "cell_type": "code",
   "execution_count": 69,
   "metadata": {},
   "outputs": [
    {
     "data": {
      "text/html": [
       "<div>\n",
       "<style scoped>\n",
       "    .dataframe tbody tr th:only-of-type {\n",
       "        vertical-align: middle;\n",
       "    }\n",
       "\n",
       "    .dataframe tbody tr th {\n",
       "        vertical-align: top;\n",
       "    }\n",
       "\n",
       "    .dataframe thead th {\n",
       "        text-align: right;\n",
       "    }\n",
       "</style>\n",
       "<table border=\"1\" class=\"dataframe\">\n",
       "  <thead>\n",
       "    <tr style=\"text-align: right;\">\n",
       "      <th></th>\n",
       "      <th>text</th>\n",
       "      <th>norm_text</th>\n",
       "    </tr>\n",
       "  </thead>\n",
       "  <tbody>\n",
       "    <tr>\n",
       "      <th>0</th>\n",
       "      <td>Bom Estou contente com a compra entrega rápida...</td>\n",
       "      <td>bom estou contente com a compra entrega rapida...</td>\n",
       "    </tr>\n",
       "    <tr>\n",
       "      <th>1</th>\n",
       "      <td>Preço imbatível, ótima qualidade Por apenas R$...</td>\n",
       "      <td>preco imbativel, otima qualidade por apenas r$...</td>\n",
       "    </tr>\n",
       "    <tr>\n",
       "      <th>2</th>\n",
       "      <td>ATENDE TODAS AS EXPECTATIVA. SUPERA EM AGILIDA...</td>\n",
       "      <td>atende todas as expectativa. supera em agilida...</td>\n",
       "    </tr>\n",
       "    <tr>\n",
       "      <th>3</th>\n",
       "      <td>presente mais que desejado MEU FILHO AMOU! PAR...</td>\n",
       "      <td>presente mais que desejado meu filho amou! par...</td>\n",
       "    </tr>\n",
       "    <tr>\n",
       "      <th>4</th>\n",
       "      <td>Sem duvidas, excelente A entrega foi no prazo,...</td>\n",
       "      <td>sem duvidas, excelente a entrega foi no prazo,...</td>\n",
       "    </tr>\n",
       "  </tbody>\n",
       "</table>\n",
       "</div>"
      ],
      "text/plain": [
       "                                                text  \\\n",
       "0  Bom Estou contente com a compra entrega rápida...   \n",
       "1  Preço imbatível, ótima qualidade Por apenas R$...   \n",
       "2  ATENDE TODAS AS EXPECTATIVA. SUPERA EM AGILIDA...   \n",
       "3  presente mais que desejado MEU FILHO AMOU! PAR...   \n",
       "4  Sem duvidas, excelente A entrega foi no prazo,...   \n",
       "\n",
       "                                           norm_text  \n",
       "0  bom estou contente com a compra entrega rapida...  \n",
       "1  preco imbativel, otima qualidade por apenas r$...  \n",
       "2  atende todas as expectativa. supera em agilida...  \n",
       "3  presente mais que desejado meu filho amou! par...  \n",
       "4  sem duvidas, excelente a entrega foi no prazo,...  "
      ]
     },
     "execution_count": 69,
     "metadata": {},
     "output_type": "execute_result"
    }
   ],
   "source": [
    "reviews_df[['text', 'norm_text']].head()"
   ]
  },
  {
   "cell_type": "markdown",
   "metadata": {},
   "source": [
    "#### Remoção de dígitos\n",
    "\n",
    "Aqui, para facilitar, vamos usar expressões regulares, um tópico que estava no `Pré-aula`.\n",
    "\n",
    "Para relembrar: https://regexone.com/lesson/letters_and_digits"
   ]
  },
  {
   "cell_type": "code",
   "execution_count": 70,
   "metadata": {},
   "outputs": [],
   "source": [
    "reviews_df['norm_text'] = reviews_df['norm_text'].str.replace(r'[0-9]', '')"
   ]
  },
  {
   "cell_type": "markdown",
   "metadata": {},
   "source": [
    "Forma alternativa **sem** usar expressões regulares:\n",
    "\n",
    "> ```python\n",
    "> for digit in range(10):\n",
    "    reviews_df['norm_text'] = reviews_df['norm_text'].str.replace(str(digit), '')\n",
    "> ``` \n",
    "\n",
    "Forma alternativa usando expressões regulares, explicitamente usando a biblioteca [re](https://docs.python.org/3.6/library/re.html):\n",
    "\n",
    "> ```python\n",
    "> import re\n",
    ">\n",
    "> def replace_digits(text):\n",
    "    return re.sub(r'\\d', '', text)\n",
    "> \n",
    "> reviews_df['norm_text'] = reviews_df['norm_text'].apply(replace_digits)\n",
    "> ```"
   ]
  },
  {
   "cell_type": "code",
   "execution_count": 71,
   "metadata": {},
   "outputs": [
    {
     "data": {
      "text/html": [
       "<div>\n",
       "<style scoped>\n",
       "    .dataframe tbody tr th:only-of-type {\n",
       "        vertical-align: middle;\n",
       "    }\n",
       "\n",
       "    .dataframe tbody tr th {\n",
       "        vertical-align: top;\n",
       "    }\n",
       "\n",
       "    .dataframe thead th {\n",
       "        text-align: right;\n",
       "    }\n",
       "</style>\n",
       "<table border=\"1\" class=\"dataframe\">\n",
       "  <thead>\n",
       "    <tr style=\"text-align: right;\">\n",
       "      <th></th>\n",
       "      <th>text</th>\n",
       "      <th>norm_text</th>\n",
       "    </tr>\n",
       "  </thead>\n",
       "  <tbody>\n",
       "    <tr>\n",
       "      <th>1</th>\n",
       "      <td>Preço imbatível, ótima qualidade Por apenas R$...</td>\n",
       "      <td>preco imbativel, otima qualidade por apenas r$...</td>\n",
       "    </tr>\n",
       "    <tr>\n",
       "      <th>2</th>\n",
       "      <td>ATENDE TODAS AS EXPECTATIVA. SUPERA EM AGILIDA...</td>\n",
       "      <td>atende todas as expectativa. supera em agilida...</td>\n",
       "    </tr>\n",
       "    <tr>\n",
       "      <th>21</th>\n",
       "      <td>TV Espetacular Pontos Positivos Painel de 10bi...</td>\n",
       "      <td>tv espetacular pontos positivos painel de bits...</td>\n",
       "    </tr>\n",
       "    <tr>\n",
       "      <th>68</th>\n",
       "      <td>7 Muito bom veio no esperado,Não pensei que vi...</td>\n",
       "      <td>muito bom veio no esperado,nao pensei que vin...</td>\n",
       "    </tr>\n",
       "    <tr>\n",
       "      <th>69</th>\n",
       "      <td>Ainda não recebi Comprei o produto dia 30/11 a...</td>\n",
       "      <td>ainda nao recebi comprei o produto dia / ate h...</td>\n",
       "    </tr>\n",
       "  </tbody>\n",
       "</table>\n",
       "</div>"
      ],
      "text/plain": [
       "                                                 text  \\\n",
       "1   Preço imbatível, ótima qualidade Por apenas R$...   \n",
       "2   ATENDE TODAS AS EXPECTATIVA. SUPERA EM AGILIDA...   \n",
       "21  TV Espetacular Pontos Positivos Painel de 10bi...   \n",
       "68  7 Muito bom veio no esperado,Não pensei que vi...   \n",
       "69  Ainda não recebi Comprei o produto dia 30/11 a...   \n",
       "\n",
       "                                            norm_text  \n",
       "1   preco imbativel, otima qualidade por apenas r$...  \n",
       "2   atende todas as expectativa. supera em agilida...  \n",
       "21  tv espetacular pontos positivos painel de bits...  \n",
       "68   muito bom veio no esperado,nao pensei que vin...  \n",
       "69  ainda nao recebi comprei o produto dia / ate h...  "
      ]
     },
     "execution_count": 71,
     "metadata": {},
     "output_type": "execute_result"
    }
   ],
   "source": [
    "reviews_df[reviews_df['text'].str.contains('0')][['text', 'norm_text']].head()"
   ]
  },
  {
   "cell_type": "markdown",
   "metadata": {},
   "source": [
    "#### Remoção de pontuação\n",
    "\n",
    "Para remover a pontuação, podemos usar o próprio módulo `string` do python, que já tem mapeadas as pontuações de texto possíveis."
   ]
  },
  {
   "cell_type": "code",
   "execution_count": 72,
   "metadata": {},
   "outputs": [],
   "source": [
    "import string\n",
    "\n",
    "translation_table = str.maketrans({key: ' ' for key in string.punctuation}) \n",
    "\n",
    "def remove_punctuation(text):\n",
    "    return text.translate(translation_table)"
   ]
  },
  {
   "cell_type": "markdown",
   "metadata": {},
   "source": [
    "* vamos testar a função?"
   ]
  },
  {
   "cell_type": "code",
   "execution_count": 73,
   "metadata": {},
   "outputs": [
    {
     "name": "stdout",
     "output_type": "stream",
     "text": [
      "Quando ela olhou, gritei bem alto: \n",
      " - \"Não me engana, não, hein?!\"\n"
     ]
    }
   ],
   "source": [
    "print('Quando ela olhou, gritei bem alto: \\n - \"Não me engana, não, hein?!\"')"
   ]
  },
  {
   "cell_type": "code",
   "execution_count": 74,
   "metadata": {},
   "outputs": [
    {
     "data": {
      "text/plain": [
       "'Quando ela olhou  gritei bem alto  \\n    Não me engana  não  hein   '"
      ]
     },
     "execution_count": 74,
     "metadata": {},
     "output_type": "execute_result"
    }
   ],
   "source": [
    "remove_punctuation('Quando ela olhou, gritei bem alto: \\n - \"Não me engana, não, hein?!\"')"
   ]
  },
  {
   "cell_type": "code",
   "execution_count": 75,
   "metadata": {},
   "outputs": [],
   "source": [
    "reviews_df['norm_text'] = reviews_df['norm_text'].apply(remove_punctuation)"
   ]
  },
  {
   "cell_type": "code",
   "execution_count": 76,
   "metadata": {},
   "outputs": [
    {
     "data": {
      "text/html": [
       "<div>\n",
       "<style scoped>\n",
       "    .dataframe tbody tr th:only-of-type {\n",
       "        vertical-align: middle;\n",
       "    }\n",
       "\n",
       "    .dataframe tbody tr th {\n",
       "        vertical-align: top;\n",
       "    }\n",
       "\n",
       "    .dataframe thead th {\n",
       "        text-align: right;\n",
       "    }\n",
       "</style>\n",
       "<table border=\"1\" class=\"dataframe\">\n",
       "  <thead>\n",
       "    <tr style=\"text-align: right;\">\n",
       "      <th></th>\n",
       "      <th>text</th>\n",
       "      <th>norm_text</th>\n",
       "    </tr>\n",
       "  </thead>\n",
       "  <tbody>\n",
       "    <tr>\n",
       "      <th>3</th>\n",
       "      <td>presente mais que desejado MEU FILHO AMOU! PAR...</td>\n",
       "      <td>presente mais que desejado meu filho amou  par...</td>\n",
       "    </tr>\n",
       "    <tr>\n",
       "      <th>10</th>\n",
       "      <td>Fantástico Comprei um pra cara membro da famíl...</td>\n",
       "      <td>fantastico comprei um pra cara membro da famil...</td>\n",
       "    </tr>\n",
       "    <tr>\n",
       "      <th>11</th>\n",
       "      <td>Maravilhoso!!! Produto maravilhoso! Não é baru...</td>\n",
       "      <td>maravilhoso    produto maravilhoso  nao e baru...</td>\n",
       "    </tr>\n",
       "    <tr>\n",
       "      <th>19</th>\n",
       "      <td>Vou usa-la A capa não decepcionou por enquanto...</td>\n",
       "      <td>vou usa la a capa nao decepcionou por enquanto...</td>\n",
       "    </tr>\n",
       "    <tr>\n",
       "      <th>21</th>\n",
       "      <td>TV Espetacular Pontos Positivos Painel de 10bi...</td>\n",
       "      <td>tv espetacular pontos positivos painel de bits...</td>\n",
       "    </tr>\n",
       "  </tbody>\n",
       "</table>\n",
       "</div>"
      ],
      "text/plain": [
       "                                                 text  \\\n",
       "3   presente mais que desejado MEU FILHO AMOU! PAR...   \n",
       "10  Fantástico Comprei um pra cara membro da famíl...   \n",
       "11  Maravilhoso!!! Produto maravilhoso! Não é baru...   \n",
       "19  Vou usa-la A capa não decepcionou por enquanto...   \n",
       "21  TV Espetacular Pontos Positivos Painel de 10bi...   \n",
       "\n",
       "                                            norm_text  \n",
       "3   presente mais que desejado meu filho amou  par...  \n",
       "10  fantastico comprei um pra cara membro da famil...  \n",
       "11  maravilhoso    produto maravilhoso  nao e baru...  \n",
       "19  vou usa la a capa nao decepcionou por enquanto...  \n",
       "21  tv espetacular pontos positivos painel de bits...  "
      ]
     },
     "execution_count": 76,
     "metadata": {},
     "output_type": "execute_result"
    }
   ],
   "source": [
    "reviews_df[reviews_df['text'].str.contains('!')][['text', 'norm_text']].head()"
   ]
  },
  {
   "cell_type": "markdown",
   "metadata": {},
   "source": [
    "#### Remoção de stopwords"
   ]
  },
  {
   "cell_type": "code",
   "execution_count": 77,
   "metadata": {},
   "outputs": [],
   "source": [
    "import nltk"
   ]
  },
  {
   "cell_type": "code",
   "execution_count": 78,
   "metadata": {},
   "outputs": [],
   "source": [
    "#nltk.download('stopwords')"
   ]
  },
  {
   "cell_type": "code",
   "execution_count": 79,
   "metadata": {},
   "outputs": [
    {
     "data": {
      "text/plain": [
       "'de / a / o / que / e / é / do / da / em / um / para / com / não / uma / os / no / se / na / por / mais / as / dos / como / mas / ao / ele / das / à / seu / sua / ou / quando / muito / nos / já / eu / também / só / pelo / pela / até / isso / ela / entre / depois / sem / mesmo / aos / seus / quem / nas / me / esse / eles / você / essa / num / nem / suas / meu / às / minha / numa / pelos / elas / qual / nós / lhe / deles / essas / esses / pelas / este / dele / tu / te / vocês / vos / lhes / meus / minhas / teu / tua / teus / tuas / nosso / nossa / nossos / nossas / dela / delas / esta / estes / estas / aquele / aquela / aqueles / aquelas / isto / aquilo / estou / está / estamos / estão / estive / esteve / estivemos / estiveram / estava / estávamos / estavam / estivera / estivéramos / esteja / estejamos / estejam / estivesse / estivéssemos / estivessem / estiver / estivermos / estiverem / hei / há / havemos / hão / houve / houvemos / houveram / houvera / houvéramos / haja / hajamos / hajam / houvesse / houvéssemos / houvessem / houver / houvermos / houverem / houverei / houverá / houveremos / houverão / houveria / houveríamos / houveriam / sou / somos / são / era / éramos / eram / fui / foi / fomos / foram / fora / fôramos / seja / sejamos / sejam / fosse / fôssemos / fossem / for / formos / forem / serei / será / seremos / serão / seria / seríamos / seriam / tenho / tem / temos / tém / tinha / tínhamos / tinham / tive / teve / tivemos / tiveram / tivera / tivéramos / tenha / tenhamos / tenham / tivesse / tivéssemos / tivessem / tiver / tivermos / tiverem / terei / terá / teremos / terão / teria / teríamos / teriam'"
      ]
     },
     "execution_count": 79,
     "metadata": {},
     "output_type": "execute_result"
    }
   ],
   "source": [
    "' / '.join(nltk.corpus.stopwords.words('portuguese'))"
   ]
  },
  {
   "cell_type": "markdown",
   "metadata": {},
   "source": [
    "**_Ponto importante_:** Como nossa tarefa é uma análise de sentimentos, seria muito ruim perder certas _stopwords_ como palavras de negação, afinal, \"Eu **não** gosto disso\"  é muito diferente de \"Eu gosto disso\"!"
   ]
  },
  {
   "cell_type": "markdown",
   "metadata": {},
   "source": [
    "Assim, vamos manter algumas das palavras que podem ser essenciais para a classificação:\n",
    "\n",
    "* `não`\n",
    "\n",
    "* `mas`\n",
    "\n",
    "Ou seja, gostaríamos de remover as palavras `não` e `mas` da lista de stopwords fornecida pelo `nltk`. Além disso, note que essa lista contém acentos. Vamos retirá-los."
   ]
  },
  {
   "cell_type": "code",
   "execution_count": 80,
   "metadata": {},
   "outputs": [],
   "source": [
    "from unicodedata import normalize\n",
    "\n",
    "def remove_accents(text):\n",
    "    return normalize('NFKD', text).encode('ascii', 'ignore').decode('utf-8')"
   ]
  },
  {
   "cell_type": "markdown",
   "metadata": {},
   "source": [
    "**Tarefa:** \n",
    "\n",
    "Crie uma lista chamada `stopwords` que contém todas as palavras de `nltk.corpus.stopwords.words('portuguese')`, exceto as palavras `não` e `mas`. A cada palavra deve ser aplicada a função `normalize_text`.\n",
    "\n",
    "1. defina uma lista chamada `not_allowed` com as palavras \"não\" e \"mas\".\n",
    "2. crie uma lista vazia chamada stopwords\n",
    "3. faça um loop para percorrer cada uma das palavras de `nltk.corpus.stopwords.words('portuguese')`\n",
    "    * a cada loop, você deve checar se a palavra atual está contida dentro de `not_allowed`\n",
    "    * se **não** estiver, você deve incluir a palavra à lista de stopwords\n",
    "\n",
    "<!-- \n",
    "not_allowed = [\"não\", \"mas\"]\n",
    "stopwords = []\n",
    "for word in nltk.corpus.stopwords.words('portuguese'):\n",
    "    if word not in not_allowed:\n",
    "        stopwords.append(remove_accents(word))\n",
    "-->"
   ]
  },
  {
   "cell_type": "code",
   "execution_count": 82,
   "metadata": {},
   "outputs": [],
   "source": [
    "not_allowed = [\"não\", \"mas\"]\n",
    "stopwords = []\n",
    "for word in nltk.corpus.stopwords.words('portuguese'):\n",
    "    if word not in not_allowed:\n",
    "        stopwords.append(remove_accents(word))"
   ]
  },
  {
   "cell_type": "code",
   "execution_count": 83,
   "metadata": {},
   "outputs": [
    {
     "data": {
      "text/plain": [
       "'de / a / o / que / e / e / do / da / em / um / para / com / uma / os / no / se / na / por / mais / as / dos / como / ao / ele / das / a / seu / sua / ou / quando / muito / nos / ja / eu / tambem / so / pelo / pela / ate / isso / ela / entre / depois / sem / mesmo / aos / seus / quem / nas / me / esse / eles / voce / essa / num / nem / suas / meu / as / minha / numa / pelos / elas / qual / nos / lhe / deles / essas / esses / pelas / este / dele / tu / te / voces / vos / lhes / meus / minhas / teu / tua / teus / tuas / nosso / nossa / nossos / nossas / dela / delas / esta / estes / estas / aquele / aquela / aqueles / aquelas / isto / aquilo / estou / esta / estamos / estao / estive / esteve / estivemos / estiveram / estava / estavamos / estavam / estivera / estiveramos / esteja / estejamos / estejam / estivesse / estivessemos / estivessem / estiver / estivermos / estiverem / hei / ha / havemos / hao / houve / houvemos / houveram / houvera / houveramos / haja / hajamos / hajam / houvesse / houvessemos / houvessem / houver / houvermos / houverem / houverei / houvera / houveremos / houverao / houveria / houveriamos / houveriam / sou / somos / sao / era / eramos / eram / fui / foi / fomos / foram / fora / foramos / seja / sejamos / sejam / fosse / fossemos / fossem / for / formos / forem / serei / sera / seremos / serao / seria / seriamos / seriam / tenho / tem / temos / tem / tinha / tinhamos / tinham / tive / teve / tivemos / tiveram / tivera / tiveramos / tenha / tenhamos / tenham / tivesse / tivessemos / tivessem / tiver / tivermos / tiverem / terei / tera / teremos / terao / teria / teriamos / teriam'"
      ]
     },
     "execution_count": 83,
     "metadata": {},
     "output_type": "execute_result"
    }
   ],
   "source": [
    "' / '.join(stopwords)"
   ]
  },
  {
   "cell_type": "markdown",
   "metadata": {},
   "source": [
    "* note que há palavras repetidas, por termos removido os acentos. Vamos retirá-las transformando `stopwords` em um _set_ (uma estrutura de dados de conjunto, que automaticamente remove repetições)"
   ]
  },
  {
   "cell_type": "code",
   "execution_count": 84,
   "metadata": {},
   "outputs": [],
   "source": [
    "stopwords = set(stopwords)"
   ]
  },
  {
   "cell_type": "code",
   "execution_count": 85,
   "metadata": {},
   "outputs": [
    {
     "data": {
      "text/plain": [
       "'isso / houveria / teve / pelas / num / teriam / esteja / teu / estiveramos / seriam / tinhamos / seu / ao / terao / hao / somos / tenha / sou / por / minha / estive / fossem / nosso / terei / estiveram / entre / o / aquele / minhas / houveramos / nossas / havemos / delas / estas / no / como / qual / pelo / tiveramos / voce / depois / sem / muito / teremos / aquelas / nem / mais / quando / tive / tivemos / estava / estivermos / houveriam / esta / eles / tem / hajamos / seremos / teus / estes / este / estiverem / tivessem / houverei / as / pelos / uma / eu / tivermos / eram / fossemos / tu / seria / fomos / dele / mesmo / houvemos / eramos / pela / lhe / a / seriamos / estivesse / na / aquela / ha / os / aos / suas / tinham / sao / se / serao / houver / nossa / lhes / te / estamos / haja / for / serei / das / dela / estao / houvermos / um / houvesse / quem / hei / houverem / esses / houveriamos / formos / ele / isto / houveram / tivessemos / em / nas / houvera / de / tinha / tivera / ate / meu / tiverem / houveremos / sera / era / tivesse / do / estavam / estivessemos / tua / aqueles / numa / nos / vos / teria / da / seja / tenham / fui / forem / deles / temos / me / foramos / com / sejamos / estou / sejam / estiver / dos / aquilo / hajam / tiveram / essas / houvessem / estivera / houverao / sua / seus / tenhamos / ou / ela / estivemos / foi / tera / esse / tiver / estivessem / e / foram / esteve / ja / tambem / so / estejamos / fora / nossos / meus / essa / tenho / que / tuas / voces / estejam / houvessemos / fosse / para / houve / teriamos / estavamos / elas'"
      ]
     },
     "execution_count": 85,
     "metadata": {},
     "output_type": "execute_result"
    }
   ],
   "source": [
    "' / '.join(stopwords)"
   ]
  },
  {
   "cell_type": "markdown",
   "metadata": {},
   "source": [
    "* salvando o dataset para uso futuro"
   ]
  },
  {
   "cell_type": "code",
   "execution_count": 86,
   "metadata": {},
   "outputs": [],
   "source": [
    "reviews_df.to_csv('data/datasets/b2w_reviews/normalized_reviews.csv', index=False)"
   ]
  },
  {
   "cell_type": "markdown",
   "metadata": {},
   "source": [
    "### Modelo (finalmente!!!)\n",
    "\n",
    "Finalmente, chegamos à parte de treinar o modelo de análise de sentimentos!!!\n",
    "\n",
    "Ou quase... na verdade, antes de treinar o modelo, precisamos transformar o texto em _features_ numéricas.\n",
    "\n",
    "A maneira mais simples de transformar um texto em um vetor de números é usando o método comumente chamado de _Bag of words_."
   ]
  },
  {
   "cell_type": "code",
   "execution_count": 87,
   "metadata": {},
   "outputs": [],
   "source": [
    "from sklearn.feature_extraction.text import CountVectorizer"
   ]
  },
  {
   "cell_type": "code",
   "execution_count": 88,
   "metadata": {},
   "outputs": [],
   "source": [
    "examples_for_bow = [\n",
    "    'camisa preta',\n",
    "    'botao feito linha preta',\n",
    "    'considera-se caro preco botao camisa botao',\n",
    "    'linha costurar botão mesma camisa',\n",
    "    'costurar linha camisa mesma botao'\n",
    "]"
   ]
  },
  {
   "cell_type": "code",
   "execution_count": 89,
   "metadata": {},
   "outputs": [],
   "source": [
    "cv = CountVectorizer(max_features=5, strip_accents='unicode', binary=True)"
   ]
  },
  {
   "cell_type": "code",
   "execution_count": 90,
   "metadata": {},
   "outputs": [
    {
     "data": {
      "text/plain": [
       "<5x5 sparse matrix of type '<class 'numpy.int64'>'\n",
       "\twith 15 stored elements in Compressed Sparse Row format>"
      ]
     },
     "execution_count": 90,
     "metadata": {},
     "output_type": "execute_result"
    }
   ],
   "source": [
    "bow_matrix = cv.fit_transform(examples_for_bow)\n",
    "bow_matrix"
   ]
  },
  {
   "cell_type": "code",
   "execution_count": 91,
   "metadata": {},
   "outputs": [
    {
     "data": {
      "text/plain": [
       "matrix([[0, 1, 0, 0, 0],\n",
       "        [1, 0, 0, 1, 0],\n",
       "        [1, 1, 0, 0, 0],\n",
       "        [1, 1, 1, 1, 1],\n",
       "        [1, 1, 1, 1, 1]])"
      ]
     },
     "execution_count": 91,
     "metadata": {},
     "output_type": "execute_result"
    }
   ],
   "source": [
    "bow_matrix.todense()"
   ]
  },
  {
   "cell_type": "code",
   "execution_count": 92,
   "metadata": {},
   "outputs": [
    {
     "data": {
      "text/plain": [
       "{'camisa': 1, 'botao': 0, 'linha': 3, 'costurar': 2, 'mesma': 4}"
      ]
     },
     "execution_count": 92,
     "metadata": {},
     "output_type": "execute_result"
    }
   ],
   "source": [
    "cv.vocabulary_"
   ]
  },
  {
   "cell_type": "code",
   "execution_count": 93,
   "metadata": {},
   "outputs": [
    {
     "data": {
      "text/html": [
       "<div>\n",
       "<style scoped>\n",
       "    .dataframe tbody tr th:only-of-type {\n",
       "        vertical-align: middle;\n",
       "    }\n",
       "\n",
       "    .dataframe tbody tr th {\n",
       "        vertical-align: top;\n",
       "    }\n",
       "\n",
       "    .dataframe thead th {\n",
       "        text-align: right;\n",
       "    }\n",
       "</style>\n",
       "<table border=\"1\" class=\"dataframe\">\n",
       "  <thead>\n",
       "    <tr style=\"text-align: right;\">\n",
       "      <th></th>\n",
       "      <th>(botao, 0)</th>\n",
       "      <th>(camisa, 1)</th>\n",
       "      <th>(costurar, 2)</th>\n",
       "      <th>(linha, 3)</th>\n",
       "      <th>(mesma, 4)</th>\n",
       "    </tr>\n",
       "  </thead>\n",
       "  <tbody>\n",
       "    <tr>\n",
       "      <th>0</th>\n",
       "      <td>0</td>\n",
       "      <td>1</td>\n",
       "      <td>0</td>\n",
       "      <td>0</td>\n",
       "      <td>0</td>\n",
       "    </tr>\n",
       "    <tr>\n",
       "      <th>1</th>\n",
       "      <td>1</td>\n",
       "      <td>0</td>\n",
       "      <td>0</td>\n",
       "      <td>1</td>\n",
       "      <td>0</td>\n",
       "    </tr>\n",
       "    <tr>\n",
       "      <th>2</th>\n",
       "      <td>1</td>\n",
       "      <td>1</td>\n",
       "      <td>0</td>\n",
       "      <td>0</td>\n",
       "      <td>0</td>\n",
       "    </tr>\n",
       "    <tr>\n",
       "      <th>3</th>\n",
       "      <td>1</td>\n",
       "      <td>1</td>\n",
       "      <td>1</td>\n",
       "      <td>1</td>\n",
       "      <td>1</td>\n",
       "    </tr>\n",
       "    <tr>\n",
       "      <th>4</th>\n",
       "      <td>1</td>\n",
       "      <td>1</td>\n",
       "      <td>1</td>\n",
       "      <td>1</td>\n",
       "      <td>1</td>\n",
       "    </tr>\n",
       "  </tbody>\n",
       "</table>\n",
       "</div>"
      ],
      "text/plain": [
       "   (botao, 0)  (camisa, 1)  (costurar, 2)  (linha, 3)  (mesma, 4)\n",
       "0           0            1              0           0           0\n",
       "1           1            0              0           1           0\n",
       "2           1            1              0           0           0\n",
       "3           1            1              1           1           1\n",
       "4           1            1              1           1           1"
      ]
     },
     "execution_count": 93,
     "metadata": {},
     "output_type": "execute_result"
    }
   ],
   "source": [
    "pd.DataFrame(bow_matrix.todense(), columns=sorted(cv.vocabulary_.items(), key=lambda item: item[1]))"
   ]
  },
  {
   "cell_type": "markdown",
   "metadata": {},
   "source": [
    "Note que os exemplos `3` e `4` têm a mesma representação numérica, mesmo que a ordem das palavras não seja a mesma! Essa é uma característica desse método."
   ]
  },
  {
   "cell_type": "markdown",
   "metadata": {},
   "source": [
    "### Divisão de dataset em treino e teste"
   ]
  },
  {
   "cell_type": "markdown",
   "metadata": {},
   "source": [
    "**Tarefa:** Divida o dataframe `reviews_df` em um dataframe de treino (`train_df`) e um de teste (`test_df`)\n",
    "\n",
    "1. crie uma variável chamada `target_vals` com os valores da coluna `target` em uma lista\n",
    "2. use a função do sklearn `train_test_split` para dividir o dataframe. Lembre-se de usar o parâmetro `stratify`, passandro para ele a variável `target_vals`.\n",
    "    \n",
    "<!-- \n",
    "target_vals = reviews_df['recommend_to_a_friend'].values\n",
    "train_df, test_df = train_test_split(reviews_df, test_size=0.2, stratify=target_vals)\n",
    "-->"
   ]
  },
  {
   "cell_type": "code",
   "execution_count": 94,
   "metadata": {},
   "outputs": [],
   "source": [
    "from sklearn.model_selection import train_test_split"
   ]
  },
  {
   "cell_type": "code",
   "execution_count": 95,
   "metadata": {},
   "outputs": [],
   "source": [
    "target_vals = reviews_df['recommend_to_a_friend'].values\n",
    "train_df, test_df = train_test_split(reviews_df, test_size=0.2, stratify=target_vals)"
   ]
  },
  {
   "cell_type": "code",
   "execution_count": 96,
   "metadata": {},
   "outputs": [
    {
     "data": {
      "text/plain": [
       "(105898, 26475)"
      ]
     },
     "execution_count": 96,
     "metadata": {},
     "output_type": "execute_result"
    }
   ],
   "source": [
    "len(train_df), len(test_df)"
   ]
  },
  {
   "cell_type": "code",
   "execution_count": 97,
   "metadata": {},
   "outputs": [
    {
     "data": {
      "text/html": [
       "<div>\n",
       "<style scoped>\n",
       "    .dataframe tbody tr th:only-of-type {\n",
       "        vertical-align: middle;\n",
       "    }\n",
       "\n",
       "    .dataframe tbody tr th {\n",
       "        vertical-align: top;\n",
       "    }\n",
       "\n",
       "    .dataframe thead th {\n",
       "        text-align: right;\n",
       "    }\n",
       "</style>\n",
       "<table border=\"1\" class=\"dataframe\">\n",
       "  <thead>\n",
       "    <tr style=\"text-align: right;\">\n",
       "      <th></th>\n",
       "      <th>norm_text</th>\n",
       "      <th>recommend_to_a_friend</th>\n",
       "    </tr>\n",
       "  </thead>\n",
       "  <tbody>\n",
       "    <tr>\n",
       "      <th>71421</th>\n",
       "      <td>excelente    valeu cada centavo  muito bom    ...</td>\n",
       "      <td>Yes</td>\n",
       "    </tr>\n",
       "    <tr>\n",
       "      <th>122414</th>\n",
       "      <td>excelente produto muito bom e chegou super rap...</td>\n",
       "      <td>Yes</td>\n",
       "    </tr>\n",
       "    <tr>\n",
       "      <th>122728</th>\n",
       "      <td>camara de vigilancia satisfeito com compra  ap...</td>\n",
       "      <td>Yes</td>\n",
       "    </tr>\n",
       "    <tr>\n",
       "      <th>129130</th>\n",
       "      <td>luzes ele faz o mesmo servico dos outros  mas ...</td>\n",
       "      <td>No</td>\n",
       "    </tr>\n",
       "    <tr>\n",
       "      <th>80185</th>\n",
       "      <td>gostei muito pratico  funciona perfeitamente  ...</td>\n",
       "      <td>Yes</td>\n",
       "    </tr>\n",
       "  </tbody>\n",
       "</table>\n",
       "</div>"
      ],
      "text/plain": [
       "                                                norm_text  \\\n",
       "71421   excelente    valeu cada centavo  muito bom    ...   \n",
       "122414  excelente produto muito bom e chegou super rap...   \n",
       "122728  camara de vigilancia satisfeito com compra  ap...   \n",
       "129130  luzes ele faz o mesmo servico dos outros  mas ...   \n",
       "80185   gostei muito pratico  funciona perfeitamente  ...   \n",
       "\n",
       "       recommend_to_a_friend  \n",
       "71421                    Yes  \n",
       "122414                   Yes  \n",
       "122728                   Yes  \n",
       "129130                    No  \n",
       "80185                    Yes  "
      ]
     },
     "execution_count": 97,
     "metadata": {},
     "output_type": "execute_result"
    }
   ],
   "source": [
    "train_df[['norm_text', 'recommend_to_a_friend']].head()"
   ]
  },
  {
   "cell_type": "code",
   "execution_count": 98,
   "metadata": {},
   "outputs": [
    {
     "data": {
      "text/html": [
       "<div>\n",
       "<style scoped>\n",
       "    .dataframe tbody tr th:only-of-type {\n",
       "        vertical-align: middle;\n",
       "    }\n",
       "\n",
       "    .dataframe tbody tr th {\n",
       "        vertical-align: top;\n",
       "    }\n",
       "\n",
       "    .dataframe thead th {\n",
       "        text-align: right;\n",
       "    }\n",
       "</style>\n",
       "<table border=\"1\" class=\"dataframe\">\n",
       "  <thead>\n",
       "    <tr style=\"text-align: right;\">\n",
       "      <th></th>\n",
       "      <th>norm_text</th>\n",
       "      <th>recommend_to_a_friend</th>\n",
       "    </tr>\n",
       "  </thead>\n",
       "  <tbody>\n",
       "    <tr>\n",
       "      <th>88747</th>\n",
       "      <td>demora na entrega do produto pessoal  o produt...</td>\n",
       "      <td>No</td>\n",
       "    </tr>\n",
       "    <tr>\n",
       "      <th>96978</th>\n",
       "      <td>pessimo produto e demora na entrega demora na ...</td>\n",
       "      <td>No</td>\n",
       "    </tr>\n",
       "    <tr>\n",
       "      <th>81349</th>\n",
       "      <td>ainda nao recebi o produto ha um mes de te lo ...</td>\n",
       "      <td>No</td>\n",
       "    </tr>\n",
       "    <tr>\n",
       "      <th>12920</th>\n",
       "      <td>muito bom o produto e preco excelente  muito b...</td>\n",
       "      <td>Yes</td>\n",
       "    </tr>\n",
       "    <tr>\n",
       "      <th>47458</th>\n",
       "      <td>falta de comprometimento para entrega nao entr...</td>\n",
       "      <td>No</td>\n",
       "    </tr>\n",
       "  </tbody>\n",
       "</table>\n",
       "</div>"
      ],
      "text/plain": [
       "                                               norm_text recommend_to_a_friend\n",
       "88747  demora na entrega do produto pessoal  o produt...                    No\n",
       "96978  pessimo produto e demora na entrega demora na ...                    No\n",
       "81349  ainda nao recebi o produto ha um mes de te lo ...                    No\n",
       "12920  muito bom o produto e preco excelente  muito b...                   Yes\n",
       "47458  falta de comprometimento para entrega nao entr...                    No"
      ]
     },
     "execution_count": 98,
     "metadata": {},
     "output_type": "execute_result"
    }
   ],
   "source": [
    "test_df[['norm_text', 'recommend_to_a_friend']].head()"
   ]
  },
  {
   "cell_type": "code",
   "execution_count": 99,
   "metadata": {},
   "outputs": [],
   "source": [
    "train_df['y'] = (train_df['recommend_to_a_friend'] == 'Yes').astype(int)\n",
    "test_df['y'] = (test_df['recommend_to_a_friend'] == 'Yes').astype(int)"
   ]
  },
  {
   "cell_type": "markdown",
   "metadata": {},
   "source": [
    "#### Treino do classificador Decision Tree\n",
    "\n",
    "Uma vantagem de usar a árvore de decisão é que ela é interpretável: ao final do treino, poderemos ver quais são as palavras que mais importam e explorar um pouco as regras de decisão para cada classificação.\n",
    "\n",
    "**Leia mais:** Se quiser um exemplo usando outro tipo de algoritmo, você pode ver esse [post no Medium](https://medium.com/@minbaekim/text-mining-preprocess-and-naive-bayes-classifier-da0000f633b2). \n",
    "\n",
    "**Aprofunde-se:** Veja a diferença entre utilizar SVM (Support Vector Machines) e Decision Trees para classificação de texto [aqui](https://www.codementor.io/blog/text-classification-6mmol0q8oj)."
   ]
  },
  {
   "cell_type": "code",
   "execution_count": 100,
   "metadata": {},
   "outputs": [],
   "source": [
    "from sklearn.tree import DecisionTreeClassifier\n",
    "from sklearn.pipeline import Pipeline"
   ]
  },
  {
   "cell_type": "code",
   "execution_count": 101,
   "metadata": {},
   "outputs": [],
   "source": [
    "steps = [\n",
    "    ('vect', CountVectorizer(max_features=200, stop_words=stopwords)),\n",
    "    ('clf', DecisionTreeClassifier(min_samples_leaf=10, class_weight='balanced'))\n",
    "]\n",
    "\n",
    "pipeline = Pipeline(steps)"
   ]
  },
  {
   "cell_type": "code",
   "execution_count": 102,
   "metadata": {},
   "outputs": [],
   "source": [
    "X_train = train_df['norm_text'].values\n",
    "y_train = train_df['y'].values"
   ]
  },
  {
   "cell_type": "code",
   "execution_count": 103,
   "metadata": {},
   "outputs": [],
   "source": [
    "sentiment_analyzer = pipeline.fit(X_train, y_train)"
   ]
  },
  {
   "cell_type": "markdown",
   "metadata": {},
   "source": [
    "**Tarefa:** Teste seu classificador usando um texto de exemplo. Veja que você pode usar tanto o método `predict` como o método `predict_proba`.\n",
    "\n",
    "1. crie uma variável `text` com qualquer texto ou com o texto de uma das avaliações do dataset\n",
    "2. faça uma chamada com `sentiment_analyzer.predict` ou `sentiment_analyzer.predict_proba` passando como parâmetro uma lista contendo a variável `text`: `[text]`\n",
    "\n",
    "\n",
    "<!-- \n",
    "text = test_df.iloc[0]['norm_text']\n",
    "sentiment_analyzer.predict([text])\n",
    "sentiment_analyzer.predict_proba([text])\n",
    "-->"
   ]
  },
  {
   "cell_type": "code",
   "execution_count": 104,
   "metadata": {},
   "outputs": [],
   "source": [
    "text = test_df.iloc[0]['norm_text']"
   ]
  },
  {
   "cell_type": "code",
   "execution_count": 105,
   "metadata": {},
   "outputs": [
    {
     "data": {
      "text/plain": [
       "array([0])"
      ]
     },
     "execution_count": 105,
     "metadata": {},
     "output_type": "execute_result"
    }
   ],
   "source": [
    "sentiment_analyzer.predict([text])"
   ]
  },
  {
   "cell_type": "code",
   "execution_count": 106,
   "metadata": {},
   "outputs": [
    {
     "data": {
      "text/plain": [
       "array([[0.57233003, 0.42766997]])"
      ]
     },
     "execution_count": 106,
     "metadata": {},
     "output_type": "execute_result"
    }
   ],
   "source": [
    "sentiment_analyzer.predict_proba([text])"
   ]
  },
  {
   "cell_type": "markdown",
   "metadata": {},
   "source": [
    "#### Plotando as features mais importantes"
   ]
  },
  {
   "cell_type": "code",
   "execution_count": 107,
   "metadata": {},
   "outputs": [],
   "source": [
    "from sklearn import tree"
   ]
  },
  {
   "cell_type": "code",
   "execution_count": 108,
   "metadata": {},
   "outputs": [],
   "source": [
    "vect = sentiment_analyzer.named_steps['vect']"
   ]
  },
  {
   "cell_type": "code",
   "execution_count": 109,
   "metadata": {},
   "outputs": [],
   "source": [
    "features = vect.get_feature_names()"
   ]
  },
  {
   "cell_type": "code",
   "execution_count": 110,
   "metadata": {},
   "outputs": [],
   "source": [
    "sorted_features = sorted(zip(features, sentiment_analyzer.named_steps['clf'].feature_importances_), key=lambda elem: elem[1], reverse=True)"
   ]
  },
  {
   "cell_type": "code",
   "execution_count": 111,
   "metadata": {},
   "outputs": [],
   "source": [
    "import matplotlib.pyplot as plt"
   ]
  },
  {
   "cell_type": "code",
   "execution_count": 112,
   "metadata": {},
   "outputs": [],
   "source": [
    "plt.rcParams['axes.axisbelow'] = True"
   ]
  },
  {
   "cell_type": "code",
   "execution_count": 113,
   "metadata": {},
   "outputs": [
    {
     "data": {
      "image/png": "[encoded data removed]",
      "text/plain": [
       "<Figure size 840x600 with 1 Axes>"
      ]
     },
     "metadata": {
      "needs_background": "light"
     },
     "output_type": "display_data"
    }
   ],
   "source": [
    "fig = plt.figure(figsize=(7, 5), dpi=120)\n",
    "ax = fig.add_subplot(111)\n",
    "plt.barh(*zip(*sorted_features[:20][::-1]), color='skyblue', edgecolor='w')\n",
    "ax.spines['right'].set_visible(False)\n",
    "ax.spines['top'].set_visible(False)\n",
    "plt.grid()\n",
    "plt.title('Top 10 features mais importantes')\n",
    "plt.show()"
   ]
  },
  {
   "cell_type": "markdown",
   "metadata": {},
   "source": [
    "* profundidade da árvore"
   ]
  },
  {
   "cell_type": "code",
   "execution_count": 114,
   "metadata": {},
   "outputs": [
    {
     "data": {
      "text/plain": [
       "125"
      ]
     },
     "execution_count": 114,
     "metadata": {},
     "output_type": "execute_result"
    }
   ],
   "source": [
    "sentiment_analyzer.named_steps['clf'].get_depth()"
   ]
  },
  {
   "cell_type": "markdown",
   "metadata": {},
   "source": [
    "* note o parâmetro `max_depth=2`, que indica que vamos plotar apenas até o nível de profundidade 2 da árvore"
   ]
  },
  {
   "cell_type": "code",
   "execution_count": 115,
   "metadata": {},
   "outputs": [
    {
     "data": {
      "image/png": "[encoded data removed]",
      "text/plain": [
       "<Figure size 1440x720 with 1 Axes>"
      ]
     },
     "metadata": {
      "needs_background": "light"
     },
     "output_type": "display_data"
    }
   ],
   "source": [
    "fig = plt.figure(figsize=(12, 6), dpi=120)\n",
    "ax = fig.add_subplot(111)\n",
    "_ = tree.plot_tree(sentiment_analyzer.named_steps['clf'], max_depth=2, label='root', proportion=False,\n",
    "    feature_names=features, class_names=['not_recommend', 'recommend'], ax=ax, fontsize=10)"
   ]
  },
  {
   "cell_type": "markdown",
   "metadata": {},
   "source": [
    "#### Avaliação do classificador\n",
    "\n",
    "**Tarefa:** Faça a predição da coluna `norm_text` e compare o resultado com o vetor target (coluna `y`).\n",
    "\n",
    "1. crie a variável `X_test` (dica: veja como criamos a variável `X_train`. Deve ser a mesma coisa, utilizando agora o dataframe `test_df`)\n",
    "2. crie a variável `y_test` (dica: veja como criamos a variável `y_train`. Deve ser a mesma coisa, utilizando agora o dataframe `test_df`)\n",
    "3. crie a variável `y_pred` com as predições do modelo `sentiment_analyzer` em `X_train`\n",
    "4. imprima o [classification_report](https://scikit-learn.org/0.19/modules/generated/sklearn.metrics.classification_report.html#sklearn.metrics.classification_report) usando como parâmetros `y_test`, `y_pred` e como `target_names` uma lista `['positive', 'negative']`.\n",
    "\n",
    "<!-- \n",
    "X_test = test_df['norm_text'].values\n",
    "y_test = test_df['y'].values\n",
    "y_pred = sentiment_analyzer.predict(X_test)\n",
    "print(classification_report(y_test, y_pred, target_names=['negative', 'positive']))\n",
    "-->"
   ]
  },
  {
   "cell_type": "code",
   "execution_count": 116,
   "metadata": {},
   "outputs": [],
   "source": [
    "from sklearn.metrics import classification_report, confusion_matrix"
   ]
  },
  {
   "cell_type": "code",
   "execution_count": 117,
   "metadata": {},
   "outputs": [],
   "source": [
    "X_test = test_df['norm_text'].values\n",
    "y_test = test_df['y'].values"
   ]
  },
  {
   "cell_type": "code",
   "execution_count": 118,
   "metadata": {},
   "outputs": [],
   "source": [
    "y_pred = sentiment_analyzer.predict(X_test)"
   ]
  },
  {
   "cell_type": "code",
   "execution_count": 119,
   "metadata": {},
   "outputs": [
    {
     "name": "stdout",
     "output_type": "stream",
     "text": [
      "              precision    recall  f1-score   support\n",
      "\n",
      "    negative       0.74      0.90      0.81      7201\n",
      "    positive       0.96      0.88      0.92     19274\n",
      "\n",
      "    accuracy                           0.89     26475\n",
      "   macro avg       0.85      0.89      0.87     26475\n",
      "weighted avg       0.90      0.89      0.89     26475\n",
      "\n"
     ]
    }
   ],
   "source": [
    "print(classification_report(y_test, y_pred, target_names=['negative', 'positive']))"
   ]
  },
  {
   "cell_type": "markdown",
   "metadata": {},
   "source": [
    "* matriz de confusão\n",
    "\n",
    "|      | pred_0| pred_1|\n",
    "|------|-------|-------|\n",
    "|   0  |  TN   |  FP   |\n",
    "|   1  |  FN   |  TP   |"
   ]
  },
  {
   "cell_type": "code",
   "execution_count": 120,
   "metadata": {},
   "outputs": [
    {
     "data": {
      "text/html": [
       "<div>\n",
       "<style scoped>\n",
       "    .dataframe tbody tr th:only-of-type {\n",
       "        vertical-align: middle;\n",
       "    }\n",
       "\n",
       "    .dataframe tbody tr th {\n",
       "        vertical-align: top;\n",
       "    }\n",
       "\n",
       "    .dataframe thead th {\n",
       "        text-align: right;\n",
       "    }\n",
       "</style>\n",
       "<table border=\"1\" class=\"dataframe\">\n",
       "  <thead>\n",
       "    <tr style=\"text-align: right;\">\n",
       "      <th></th>\n",
       "      <th>pred_0</th>\n",
       "      <th>pred_1</th>\n",
       "    </tr>\n",
       "  </thead>\n",
       "  <tbody>\n",
       "    <tr>\n",
       "      <th>0</th>\n",
       "      <td>6455</td>\n",
       "      <td>746</td>\n",
       "    </tr>\n",
       "    <tr>\n",
       "      <th>1</th>\n",
       "      <td>2254</td>\n",
       "      <td>17020</td>\n",
       "    </tr>\n",
       "  </tbody>\n",
       "</table>\n",
       "</div>"
      ],
      "text/plain": [
       "   pred_0  pred_1\n",
       "0    6455     746\n",
       "1    2254   17020"
      ]
     },
     "execution_count": 120,
     "metadata": {},
     "output_type": "execute_result"
    }
   ],
   "source": [
    "pd.DataFrame(confusion_matrix(y_test, y_pred), columns=['pred_0', 'pred_1'])"
   ]
  },
  {
   "cell_type": "markdown",
   "metadata": {},
   "source": [
    "**Pergunta final:** O que você achou do classificador? Ele é bom ou ruim?"
   ]
  },
  {
   "cell_type": "markdown",
   "metadata": {},
   "source": [
    "### Mais considerações e possíveis modificações"
   ]
  },
  {
   "cell_type": "markdown",
   "metadata": {},
   "source": [
    "Note que após aplicar o _Bag of words_, também poderíamos ter aplicado a transformação Tfidf, que discrimina as palavras de acordo com a \"relevância\" delas em cada documento em relação ao _corpus_ (i.e. o conjunto total de documentos).\n",
    "\n",
    "**Tarefa Bônus:** Inclua no _pipeline_ a transformação `Tfidf` e compare os resultados."
   ]
  },
  {
   "cell_type": "markdown",
   "metadata": {},
   "source": [
    "Vimos que nosso classificador possui tanto o método `predict` como o método `predict_proba`. Ao usar o método `predict_proba`, temos as probabilidades de que o texto seja `positive` ou `negative`. Podemos escolher um _threshold_ de forma a maximizar uma das métricas.\n",
    "\n",
    "**Tarefa Bônus:** Escolha esse threshold de forma a maximizar nosso `recall` de exemplos positivos."
   ]
  },
  {
   "cell_type": "code",
   "execution_count": 121,
   "metadata": {},
   "outputs": [],
   "source": [
    "# !python -m spacy download pt_core_news_sm"
   ]
  },
  {
   "cell_type": "markdown",
   "metadata": {},
   "source": [
    "Outra alternativa seria processar o texto de uma maneira diferente: imagine que só quiséssemos incluir três tipos de classes gramaticais: verbo, adjetivo e advérbio, que normalmente são as classes que indicam o sentimento de um indivíduo em relação a alguma coisa.\n",
    "\n",
    "Um módulo bastante utilizado em NLP é o [spacy](https://spacy.io/). No `spacy`, é possível treinar um modelo para que ele reconheça certas estruturas comuns em textos de uma determinada língua. No caso do inglês (e também do português), podemos baixar o modelo e começar a usar!\n",
    "\n",
    "Além de ser bem completo, ele costuma ser mais rápido que o módulo \"concorrente\" `nltk`. [Esse benchmark](https://blog.thedataincubator.com/2016/04/nltk-vs-spacy-natural-language-processing-in-python/) compara três tarefas (tokenização de palavras, tokenização de sentenças e classificação gramatical - comumente chamado de PoS tag, _part-of-speech tag_), que é o que queremos fazer.\n",
    "\n",
    "No modelo do `spacy`, é possível identificar os seguintes tipos de PoS tag:\n",
    "\n",
    "* ADJ\n",
    "* ADP\n",
    "* ADV\n",
    "* CONJ\n",
    "* DET\n",
    "* INTJ\n",
    "* NOUN\n",
    "* PART (e.g. possessive marker _'s_)\n",
    "* PRON\n",
    "* PROPN\n",
    "* PUNCT\n",
    "* SPACE\n",
    "* SYM\n",
    "* VERB\n",
    "* X (unknown)\n",
    "\n",
    "**Obs.:** na verdade isso vale para o _coarse-grained PoS tag_ (que é visto chamando o atributo `pos` de um objeto `Token`), para o _fine-grained PoS tag_, há muito [mais classificações disponíveis](https://spacy.io/api/annotation).\n",
    "\n",
    "**Usando o spacy**\n",
    "\n",
    "Ao fazer uma chamada do tipo `nlp(text)`, é aplicado o pipeline composto pelo `tagger` (PoS tag), `parser` (_parseador_ de dependências) e `ner` (reconhecimento de entidades) no texto. O retorno é um objeto do tipo `Doc`, que é uma sequência de objetos `Token`. Cada uma dos objetos `Token` terá o atributo `pos_`, que trará a classe gramatical."
   ]
  },
  {
   "cell_type": "code",
   "execution_count": 122,
   "metadata": {},
   "outputs": [],
   "source": [
    "import spacy"
   ]
  },
  {
   "cell_type": "code",
   "execution_count": 123,
   "metadata": {},
   "outputs": [],
   "source": [
    "nlp = spacy.load('pt_core_news_sm')"
   ]
  },
  {
   "cell_type": "code",
   "execution_count": 124,
   "metadata": {},
   "outputs": [],
   "source": [
    "doc = nlp('Ótimo produto, porém embalagem péssima. O \"saco\" que veio o tênis chegou todo rasgado por causa da pessima embalagem.')"
   ]
  },
  {
   "cell_type": "code",
   "execution_count": 125,
   "metadata": {},
   "outputs": [
    {
     "name": "stdout",
     "output_type": "stream",
     "text": [
      "Ótimo PRON\n",
      "produto NOUN\n",
      ", PUNCT\n",
      "porém ADV\n",
      "embalagem NOUN\n",
      "péssima ADJ\n",
      ". PUNCT\n",
      "O DET\n",
      "\" PROPN\n",
      "saco PROPN\n",
      "\" PUNCT\n",
      "que PRON\n",
      "veio VERB\n",
      "o DET\n",
      "tênis NOUN\n",
      "chegou VERB\n",
      "todo ADV\n",
      "rasgado VERB\n",
      "por ADP\n",
      "causa NOUN\n",
      "da ADP\n",
      "pessima ADJ\n",
      "embalagem NOUN\n",
      ". PUNCT\n"
     ]
    }
   ],
   "source": [
    "for token in doc:\n",
    "    print(token, token.pos_)"
   ]
  },
  {
   "cell_type": "markdown",
   "metadata": {},
   "source": [
    "Assim, se imprimíssemos somente as palavras de classe `ADJ`, `ADV` e `VERB`, teríamos:"
   ]
  },
  {
   "cell_type": "code",
   "execution_count": 126,
   "metadata": {},
   "outputs": [
    {
     "name": "stdout",
     "output_type": "stream",
     "text": [
      "porém ADV\n",
      "péssima ADJ\n",
      "veio VERB\n",
      "chegou VERB\n",
      "todo ADV\n",
      "rasgado VERB\n",
      "pessima ADJ\n"
     ]
    }
   ],
   "source": [
    "allowed_pos = set(['ADJ', 'ADV', 'VERB'])\n",
    "for token in doc:\n",
    "    if token.pos_ not in allowed_pos:\n",
    "        continue\n",
    "    print(token, token.pos_)"
   ]
  },
  {
   "cell_type": "markdown",
   "metadata": {},
   "source": [
    "Como podemos ver, ele não acerta tudo, mas já pode ser suficiente para nós.\n",
    "\n",
    "Uma alternativa ao `spacy` é usar a biblioteca [nlpnet](https://github.com/erickrf/nlpnet) para extrair as classes gramaticais."
   ]
  },
  {
   "cell_type": "markdown",
   "metadata": {},
   "source": [
    "**Tarefa Bônus:** Filtre os adjetivos, advérbios e verbos do texto e construa um novo modelo que use esse novo texto como input e avalie o resultado."
   ]
  },
  {
   "cell_type": "code",
   "execution_count": null,
   "metadata": {},
   "outputs": [],
   "source": []
  }
 ],
 "metadata": {
  "kernelspec": {
   "display_name": "Python 3",
   "language": "python",
   "name": "python3"
  },
  "language_info": {
   "codemirror_mode": {
    "name": "ipython",
    "version": 3
   },
   "file_extension": ".py",
   "mimetype": "text/x-python",
   "name": "python",
   "nbconvert_exporter": "python",
   "pygments_lexer": "ipython3",
   "version": "3.7.4"
  }
 },
 "nbformat": 4,
 "nbformat_minor": 4
}
